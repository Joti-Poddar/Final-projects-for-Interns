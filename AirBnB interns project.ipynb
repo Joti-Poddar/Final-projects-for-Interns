{
 "cells": [
  {
   "cell_type": "code",
   "execution_count": null,
   "id": "60eb61a8-3aeb-4845-b19b-ff6f9a1f7c3c",
   "metadata": {},
   "outputs": [],
   "source": [
    "!pip install pycaret"
   ]
  },
  {
   "cell_type": "code",
   "execution_count": null,
   "id": "b3453eee-9cff-402b-82f3-b2e52abad2a1",
   "metadata": {},
   "outputs": [],
   "source": [
    "from pycaret.classification import *"
   ]
  },
  {
   "cell_type": "code",
   "execution_count": null,
   "id": "052603d3-121d-47db-8c48-1120190c3967",
   "metadata": {},
   "outputs": [],
   "source": [
    "import pandas as pd\n",
    "import numpy as np\n",
    "import matplotlib.pyplot as plt\n",
    "import seaborn as sns\n",
    "from sklearn.model_selection import train_test_split\n",
    "from sklearn.preprocessing import LabelEncoder\n",
    "from sklearn.linear_model import LogisticRegression\n",
    "from sklearn.metrics import accuracy_score"
   ]
  },
  {
   "cell_type": "code",
   "execution_count": null,
   "id": "e417fba6-3f62-4dcf-b4a7-0caab393b269",
   "metadata": {},
   "outputs": [],
   "source": [
    "data= pd.read_csv('compressed_data (1).csv')\n",
    "data"
   ]
  },
  {
   "cell_type": "code",
   "execution_count": null,
   "id": "1a58932f-74ae-4c28-b737-6071cd194dab",
   "metadata": {},
   "outputs": [],
   "source": [
    "data.head()"
   ]
  },
  {
   "cell_type": "code",
   "execution_count": null,
   "id": "ce772935-a251-47da-96cf-cbf68c587d36",
   "metadata": {},
   "outputs": [],
   "source": [
    "data.info()"
   ]
  },
  {
   "cell_type": "code",
   "execution_count": null,
   "id": "7acbcf7f-b91b-4f2b-80eb-26a37cea5a86",
   "metadata": {},
   "outputs": [],
   "source": [
    "data.columns"
   ]
  },
  {
   "cell_type": "markdown",
   "id": "ba28faca-8cb7-45a8-bf00-13bb6a7ecf99",
   "metadata": {},
   "source": [
    "# checking missing values"
   ]
  },
  {
   "cell_type": "code",
   "execution_count": null,
   "id": "de186cdf-1e15-4a9b-927d-79d9c31419e3",
   "metadata": {},
   "outputs": [],
   "source": [
    "print(data.isnull().sum())"
   ]
  },
  {
   "cell_type": "markdown",
   "id": "32578437-910f-4ee7-899d-26c0c77e1f90",
   "metadata": {},
   "source": [
    "# handling missing values"
   ]
  },
  {
   "cell_type": "code",
   "execution_count": null,
   "id": "a752c912-b947-4f7a-aa4f-00adb9344441",
   "metadata": {},
   "outputs": [],
   "source": [
    "data['last review'] = pd.to_datetime(data['last review'], errors = 'coerce')"
   ]
  },
  {
   "cell_type": "code",
   "execution_count": null,
   "id": "f91a194e-b8bd-4eb0-ba19-75682235a9d3",
   "metadata": {},
   "outputs": [],
   "source": [
    "data.info()"
   ]
  },
  {
   "cell_type": "code",
   "execution_count": null,
   "id": "e37f89bc-7529-4b6f-acc8-9600f31c23e2",
   "metadata": {},
   "outputs": [],
   "source": [
    "data.describe()"
   ]
  },
  {
   "cell_type": "code",
   "execution_count": null,
   "id": "7818e5f3-7518-4a2d-892f-a64d2c51c39d",
   "metadata": {},
   "outputs": [],
   "source": [
    "data.isnull().sum().sum()"
   ]
  },
  {
   "cell_type": "code",
   "execution_count": null,
   "id": "0667cc89-ba0e-42ff-9a8c-50a22a89fa45",
   "metadata": {},
   "outputs": [],
   "source": [
    "data.duplicated().sum()"
   ]
  },
  {
   "cell_type": "code",
   "execution_count": null,
   "id": "06023f26-83d9-4fd4-9293-eb6bcc5f659b",
   "metadata": {},
   "outputs": [],
   "source": [
    "data.drop_duplicates(inplace=True)"
   ]
  },
  {
   "cell_type": "code",
   "execution_count": null,
   "id": "3b4cc918-5be6-409b-9b7c-5cd87f51121f",
   "metadata": {},
   "outputs": [],
   "source": [
    "data.duplicated().sum()"
   ]
  },
  {
   "cell_type": "code",
   "execution_count": null,
   "id": "f8c84728-a4b3-4e7d-b696-4718fa533c84",
   "metadata": {},
   "outputs": [],
   "source": [
    "df.columns"
   ]
  },
  {
   "cell_type": "code",
   "execution_count": null,
   "id": "e20b6165-983b-409c-8394-146926c8eab0",
   "metadata": {},
   "outputs": [],
   "source": [
    "data.fillna({'reviews per month' : 0, 'last review' : data['last review'].min()}, inplace = True)"
   ]
  },
  {
   "cell_type": "code",
   "execution_count": null,
   "id": "cbe0b7c5-5022-4d5a-b8d3-41ec008476f4",
   "metadata": {},
   "outputs": [],
   "source": [
    "data.dropna(subset = ['NAME', 'host name'], inplace = True)\n"
   ]
  },
  {
   "cell_type": "code",
   "execution_count": null,
   "id": "12d5c8e4-72e7-479b-9db2-85012bd4156c",
   "metadata": {},
   "outputs": [],
   "source": [
    "print(data.isnull().sum())"
   ]
  },
  {
   "cell_type": "code",
   "execution_count": null,
   "id": "7c300b72-8a8b-4490-88b6-eaa2003c7a04",
   "metadata": {},
   "outputs": [],
   "source": [
    "data = data.drop(columns=[\"license\", \"house_rules\"],errors='ignore')"
   ]
  },
  {
   "cell_type": "code",
   "execution_count": null,
   "id": "f094eacc-869d-4334-a5c0-f24b3c193ce9",
   "metadata": {},
   "outputs": [],
   "source": [
    "data.head()"
   ]
  },
  {
   "cell_type": "code",
   "execution_count": null,
   "id": "92ee30e5-f1dd-49dd-a813-9b19f6ff5161",
   "metadata": {},
   "outputs": [],
   "source": [
    "data['neighbourhood_group'].value_counts()"
   ]
  },
  {
   "cell_type": "code",
   "execution_count": null,
   "id": "d9b2c00f-6e4f-415f-9e14-04bf51d14a2f",
   "metadata": {},
   "outputs": [],
   "source": [
    "from sklearn.preprocessing import LabelEncoder"
   ]
  },
  {
   "cell_type": "code",
   "execution_count": null,
   "id": "79905407-388a-4927-a2ff-45077346d31f",
   "metadata": {},
   "outputs": [],
   "source": [
    "#splitting data into training and testing\n",
    "from sklearn.model_selection import train_test_split"
   ]
  },
  {
   "cell_type": "code",
   "execution_count": null,
   "id": "65692aea-c61a-459d-8d06-9c6c74317510",
   "metadata": {},
   "outputs": [],
   "source": [
    "x_train,x_test,y_train,y_test=train_test_split(X,y,test_size=0.30)"
   ]
  },
  {
   "cell_type": "code",
   "execution_count": null,
   "id": "f30b850d-8d30-45f0-944c-4e039f519ec6",
   "metadata": {},
   "outputs": [],
   "source": [
    "from sklearn.linear_model import LinearRegression"
   ]
  },
  {
   "cell_type": "code",
   "execution_count": null,
   "id": "98e634fa-fa17-45e2-be94-832bafe65f90",
   "metadata": {},
   "outputs": [],
   "source": [
    "model=LinearRegression()"
   ]
  },
  {
   "cell_type": "code",
   "execution_count": null,
   "id": "8500b0bd-7ce9-4423-a424-ab3266e851b8",
   "metadata": {},
   "outputs": [],
   "source": [
    "le = LabelEncoder()\n",
    "for col in data.columns:\n",
    "    if data[col].dtype== 'object':\n",
    "        data[col] = le.fit_transform(data[col])"
   ]
  },
  {
   "cell_type": "code",
   "execution_count": null,
   "id": "c3d48661-dd78-4878-9ea2-47c7ad68c704",
   "metadata": {},
   "outputs": [],
   "source": [
    "model = Pipeline(steps=[\n",
    "    ('preprocessor', preprocessor),\n",
    "    ('regressor', LinearRegression())\n",
    "])\n",
    "\n",
    "\n",
    "# Train-Test Split\n",
    "X_train, X_test, y_train, y_test = train_test_split(X, y, test_size=0.2, random_state=42)\n",
    "\n",
    "# Train Model\n",
    "model.fit(X_train, y_train)\n",
    "y_pred = model.predict(X_test)\n",
    "\n",
    "\n",
    "print(\"R² Score:\", round(r2_score(y_test, y_pred), 2))\n",
    "print(\"RMSE:\", round(mean_squared_error(y_test, y_pred, squared=False), 2))\n",
    "\n",
    "\n",
    "def recommend_price(neighbourhood_group, room_type, number_of_reviews, availability_365, minimum_nights):\n",
    "    input_df = pd.DataFrame([{\n",
    "        'neighbourhood_group': neighbourhood_group,\n",
    "        'room_type': room_type,\n",
    "        'number_of_reviews': number_of_reviews,\n",
    "        'availability_365': availability_365,\n",
    "        'minimum_nights': minimum_nights\n",
    "    }])\n",
    "    predicted_price = model.predict(input_df)[0]\n",
    "    return round(predicted_price, 2)\n",
    "\n",
    "\n",
    "example_price = recommend_price(\n",
    "    neighbourhood_group='Brooklyn',\n",
    "    room_type='Private room',\n",
    "    number_of_reviews=15,\n",
    "    availability_365=200,\n",
    "    minimum_nights=2\n",
    ")\n",
    "\n",
    "print(f\"📌 Suggested Price: ${example_price} per night\")"
   ]
  },
  {
   "cell_type": "code",
   "execution_count": null,
   "id": "3c4a95e1-ec28-4f8f-afff-0240f4bf47c9",
   "metadata": {},
   "outputs": [],
   "source": [
    "data.columns"
   ]
  },
  {
   "cell_type": "code",
   "execution_count": null,
   "id": "331cf820-e369-442b-902b-502b14a674f7",
   "metadata": {},
   "outputs": [],
   "source": []
  },
  {
   "cell_type": "code",
   "execution_count": null,
   "id": "cae30621-183c-4f65-9e95-4cfcca7f4d01",
   "metadata": {},
   "outputs": [],
   "source": []
  },
  {
   "cell_type": "code",
   "execution_count": null,
   "id": "24e82f34-a0cb-4ef7-b9f0-20c1167d26b0",
   "metadata": {},
   "outputs": [],
   "source": []
  },
  {
   "cell_type": "code",
   "execution_count": null,
   "id": "5045d104-bcf7-4da5-91fc-6649ba4eb20f",
   "metadata": {},
   "outputs": [],
   "source": []
  },
  {
   "cell_type": "code",
   "execution_count": null,
   "id": "e12229a1-b53e-49c2-9e73-a9a9905a1e61",
   "metadata": {},
   "outputs": [],
   "source": []
  },
  {
   "cell_type": "code",
   "execution_count": null,
   "id": "57540711-edc9-4171-ae46-967ba27a8072",
   "metadata": {},
   "outputs": [],
   "source": []
  },
  {
   "cell_type": "code",
   "execution_count": null,
   "id": "c41d43a9-86d4-4e3c-a734-2891f6d09972",
   "metadata": {},
   "outputs": [],
   "source": []
  },
  {
   "cell_type": "code",
   "execution_count": null,
   "id": "36d578b9-41ca-407a-bc96-42e1b527a879",
   "metadata": {},
   "outputs": [],
   "source": []
  },
  {
   "cell_type": "code",
   "execution_count": null,
   "id": "34c93252-fe52-4a07-827c-ba3ce1ad5a0c",
   "metadata": {},
   "outputs": [],
   "source": []
  },
  {
   "cell_type": "code",
   "execution_count": null,
   "id": "6c79ce09-9752-43fe-95dd-9c95d7338492",
   "metadata": {},
   "outputs": [],
   "source": []
  },
  {
   "cell_type": "code",
   "execution_count": null,
   "id": "8de01858-d1f6-4778-a911-f1230471399b",
   "metadata": {},
   "outputs": [],
   "source": []
  }
 ],
 "metadata": {
  "kernelspec": {
   "display_name": "Python 3 (ipykernel)",
   "language": "python",
   "name": "python3"
  },
  "language_info": {
   "codemirror_mode": {
    "name": "ipython",
    "version": 3
   },
   "file_extension": ".py",
   "mimetype": "text/x-python",
   "name": "python",
   "nbconvert_exporter": "python",
   "pygments_lexer": "ipython3",
   "version": "3.11.7"
  }
 },
 "nbformat": 4,
 "nbformat_minor": 5
}
